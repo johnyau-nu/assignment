{
 "cells": [
  {
   "cell_type": "markdown",
   "id": "41be2312-b05a-415c-8e94-c07673e1eeaa",
   "metadata": {},
   "source": [
    "# Data Science Tools and Ecosystem\n",
    "In this notebook, Data Science Tools and Ecosystem are summarized."
   ]
  },
  {
   "cell_type": "markdown",
   "id": "739f747b-5fc0-42e3-b51e-9727c169aaf0",
   "metadata": {},
   "source": [
    "** Objectives: **\n",
    "- List popular languages for Data Science\n",
    "- List the tasks that a data scientist needs to perform to build a model\n",
    "- List the open-source tools used in data science\n",
    "- Describe the relevant features of open-source tools\n",
    "- List the commercial data science tools.\n",
    "\n",
    "## Author\n",
    "John Yau"
   ]
  },
  {
   "cell_type": "markdown",
   "id": "ffdc25f1-74ae-4e3e-87ca-ca1dc627ff92",
   "metadata": {},
   "source": [
    "Some of the popular languages that use are:\n",
    "1. Python\n",
    "2. R\n",
    "3. SQL\n",
    "4. Jave\n",
    "5. MATLAB\n",
    "\n",
    "Some of the commonly used libraries used by Data Scientists include:\n",
    "1. NumPy\n",
    "2. Pandas\n",
    "3. Matplotlib\n",
    "4. Scikit-learn\n",
    "5. TensorFlow\n",
    "\n",
    "| Data Science Tools |\n",
    "| ****************** |\n",
    "| Jupyter Notebook   |\n",
    "| Spyder             |\n",
    "| RStudio            |\n",
    "\n",
    "### Below are a few examples of evaluating arithmetic expressions in Python.\n",
    "This is a simple arithmetic expression to mutiply then add integers"
   ]
  },
  {
   "cell_type": "code",
   "execution_count": 1,
   "id": "cdab9450-97c6-442d-8742-1dcfbfd9ede5",
   "metadata": {},
   "outputs": [
    {
     "data": {
      "text/plain": [
       "17"
      ]
     },
     "execution_count": 1,
     "metadata": {},
     "output_type": "execute_result"
    }
   ],
   "source": [
    "(3*4)+5"
   ]
  },
  {
   "cell_type": "markdown",
   "id": "7ce422e3-8c57-468d-ae21-afd1dda728d5",
   "metadata": {},
   "source": [
    "This will convert 200 minutes to hours by diving by 60. "
   ]
  },
  {
   "cell_type": "code",
   "execution_count": 2,
   "id": "d0a068d1-c227-4978-8b9c-800fc603417c",
   "metadata": {},
   "outputs": [
    {
     "name": "stdout",
     "output_type": "stream",
     "text": [
      "3.3333333333333335\n"
     ]
    }
   ],
   "source": [
    "minutes = 200\n",
    "hours=minutes/60\n",
    "print(hours)"
   ]
  },
  {
   "cell_type": "code",
   "execution_count": null,
   "id": "26ec8bc5-8b45-4503-8e22-f67fe039ee1a",
   "metadata": {},
   "outputs": [],
   "source": []
  }
 ],
 "metadata": {
  "kernelspec": {
   "display_name": "Python 3 (ipykernel)",
   "language": "python",
   "name": "python3"
  },
  "language_info": {
   "codemirror_mode": {
    "name": "ipython",
    "version": 3
   },
   "file_extension": ".py",
   "mimetype": "text/x-python",
   "name": "python",
   "nbconvert_exporter": "python",
   "pygments_lexer": "ipython3",
   "version": "3.9.13"
  }
 },
 "nbformat": 4,
 "nbformat_minor": 5
}
